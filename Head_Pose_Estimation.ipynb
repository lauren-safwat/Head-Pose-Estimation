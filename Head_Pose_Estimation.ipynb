{
  "nbformat": 4,
  "nbformat_minor": 0,
  "metadata": {
    "colab": {
      "name": "Head Pose Estimation.ipynb",
      "provenance": [],
      "authorship_tag": "ABX9TyMCS3qhzEANAfRAp7KMpMVB",
      "include_colab_link": true
    },
    "kernelspec": {
      "name": "python3",
      "display_name": "Python 3"
    },
    "language_info": {
      "name": "python"
    }
  },
  "cells": [
    {
      "cell_type": "markdown",
      "metadata": {
        "id": "view-in-github",
        "colab_type": "text"
      },
      "source": [
        "<a href=\"https://colab.research.google.com/github/lauren-safwat/Head-Pose-Estimation/blob/main/Head_Pose_Estimation.ipynb\" target=\"_parent\"><img src=\"https://colab.research.google.com/assets/colab-badge.svg\" alt=\"Open In Colab\"/></a>"
      ]
    },
    {
      "cell_type": "markdown",
      "source": [
        "### Installing MediaPipe"
      ],
      "metadata": {
        "id": "7KTvYY78l0cs"
      }
    },
    {
      "cell_type": "code",
      "execution_count": 26,
      "metadata": {
        "id": "82QgxnzOlr5M"
      },
      "outputs": [],
      "source": [
        "%%capture\n",
        "!pip install mediapipe"
      ]
    },
    {
      "cell_type": "markdown",
      "source": [
        "### Imports"
      ],
      "metadata": {
        "id": "J_B5eOQimOZC"
      }
    },
    {
      "cell_type": "code",
      "source": [
        "import numpy as np\n",
        "import pandas as pd\n",
        "import mediapipe as mp\n",
        "import scipy.io as sio\n",
        "import cv2\n",
        "import os\n",
        "import math\n",
        "import glob\n",
        "import random\n",
        "from pathlib import Path\n",
        "from google.colab.patches import cv2_imshow\n",
        "\n",
        "from sklearn.model_selection import train_test_split\n",
        "from sklearn.multioutput import MultiOutputRegressor\n",
        "from sklearn.metrics import r2_score,f1_score\n",
        "from sklearn.ensemble import RandomForestRegressor\n",
        "from sklearn.svm import SVR\n",
        "\n",
        "import warnings\n",
        "warnings.filterwarnings('ignore')"
      ],
      "metadata": {
        "id": "GrTZNavDmRVe"
      },
      "execution_count": 27,
      "outputs": []
    },
    {
      "cell_type": "markdown",
      "source": [
        "### Downloading Data"
      ],
      "metadata": {
        "id": "8dB1j4SgmihR"
      }
    },
    {
      "cell_type": "code",
      "source": [
        "# Loading AFLW2000 Data\n",
        "%%capture\n",
        "if os.path.isfile('/content/AFLW2000-3D.zip') == False:\n",
        "  !gdown --id  1fP3zvSCYjll_o_m7S12nvQLZ9MnsEoap\n",
        "  !unzip /content/AFLW2000-3D.zip"
      ],
      "metadata": {
        "id": "HZB6WafSmnYz"
      },
      "execution_count": 28,
      "outputs": []
    },
    {
      "cell_type": "markdown",
      "source": [
        "### **Data Preparation**"
      ],
      "metadata": {
        "id": "jz1pC2c9niTK"
      }
    },
    {
      "cell_type": "code",
      "source": [
        "mp_faceModule = mp.solutions.face_mesh\n",
        "\n",
        "# Load drawing_utils and drawing_styles\n",
        "mp_drawing = mp.solutions.drawing_utils \n",
        "mp_drawing_styles = mp.solutions.drawing_styles"
      ],
      "metadata": {
        "id": "S6d-aqjGkiPy"
      },
      "execution_count": 29,
      "outputs": []
    },
    {
      "cell_type": "code",
      "source": [
        "def createRecord(image, mat_file=None):\n",
        "    with mp_faceModule.FaceMesh(static_image_mode=True) as face_mesh:\n",
        "        # Convert the BGR image to RGB before processing.\n",
        "        results = face_mesh.process(cv2.cvtColor(image, cv2.COLOR_BGR2RGB))\n",
        "\n",
        "        records = []\n",
        "        if results.multi_face_landmarks != None: \n",
        "            # Looping over the faces in the image\n",
        "            for face in results.multi_face_landmarks:\n",
        "                record = {}\n",
        "\n",
        "                # Extracting the landmark points (468 points)\n",
        "                for i, landmark in enumerate(face.landmark):\n",
        "                    record['x_' + str(i+1)] = landmark.x\n",
        "                    record['y_' + str(i+1)] = landmark.y\n",
        "\n",
        "                # Extracting the 3 angels of the face (pitch, yaw, roll)\n",
        "                if mat_file:\n",
        "                    pose_para = mat_file[\"Pose_Para\"][0][:3]\n",
        "                    record['pitch'] = pose_para[0]\n",
        "                    record['yaw'] = pose_para[1]\n",
        "                    record['roll'] = pose_para[2]\n",
        "\n",
        "                records.append(record)\n",
        "    \n",
        "    return records\n",
        "            "
      ],
      "metadata": {
        "id": "k095MbcX5uFA"
      },
      "execution_count": 30,
      "outputs": []
    },
    {
      "cell_type": "code",
      "source": [
        "def prepareTrainData(path):\n",
        "    data = []\n",
        "    for filename in glob.glob(path + '/*.jpg'):\n",
        "        # Loading the image and its corresponding mat file\n",
        "        image = cv2.imread(filename)\n",
        "        mat_file = sio.loadmat(filename.replace('.jpg', '.mat'))\n",
        "        data.extend(createRecord(image, mat_file))\n",
        "\n",
        "    return pd.DataFrame(data)                "
      ],
      "metadata": {
        "id": "t25vTMtqsQ-e"
      },
      "execution_count": 31,
      "outputs": []
    },
    {
      "cell_type": "code",
      "source": [
        "path = '/content/AFLW2000'\n",
        "train_data = prepareTrainData(path)"
      ],
      "metadata": {
        "id": "MsqU4ra42ELo"
      },
      "execution_count": 32,
      "outputs": []
    },
    {
      "cell_type": "code",
      "source": [
        "X = train_data.iloc[:, :-3]\n",
        "y = train_data.iloc[:, -3:]"
      ],
      "metadata": {
        "id": "RABaK1cw9cov"
      },
      "execution_count": 33,
      "outputs": []
    },
    {
      "cell_type": "code",
      "source": [
        "X.head()"
      ],
      "metadata": {
        "colab": {
          "base_uri": "https://localhost:8080/",
          "height": 299
        },
        "id": "cDYedOPu95Im",
        "outputId": "c44fefd3-a2c8-4622-f82b-5870fda29761"
      },
      "execution_count": 34,
      "outputs": [
        {
          "output_type": "execute_result",
          "data": {
            "text/plain": [
              "        x_1       y_1       x_2       y_2       x_3       y_3       x_4  \\\n",
              "0  0.543208  0.699374  0.577407  0.632260  0.548907  0.647842  0.550986   \n",
              "1  0.449318  0.623106  0.438217  0.555571  0.453033  0.584886  0.438084   \n",
              "2  0.536798  0.673666  0.568343  0.605853  0.540946  0.627751  0.540447   \n",
              "3  0.502775  0.686440  0.470461  0.625865  0.491160  0.642107  0.449308   \n",
              "4  0.454915  0.643061  0.441740  0.598905  0.461118  0.613343  0.455830   \n",
              "\n",
              "        y_4       x_5       y_5  ...     x_464     y_464     x_465     y_465  \\\n",
              "0  0.556556  0.581944  0.611347  ...  0.565472  0.488038  0.561025  0.494831   \n",
              "1  0.511398  0.438144  0.537558  ...  0.534395  0.490127  0.520145  0.492032   \n",
              "2  0.540982  0.571973  0.585368  ...  0.557607  0.499001  0.553109  0.502464   \n",
              "3  0.557135  0.464042  0.604852  ...  0.526728  0.481417  0.514784  0.489186   \n",
              "4  0.551114  0.442383  0.584940  ...  0.535493  0.526638  0.525722  0.528086   \n",
              "\n",
              "      x_466     y_466     x_467     y_467     x_468     y_468  \n",
              "0  0.562877  0.500676  0.635171  0.476615  0.641297  0.471475  \n",
              "1  0.509019  0.491730  0.624954  0.484638  0.639041  0.475861  \n",
              "2  0.554370  0.504928  0.625219  0.498331  0.632393  0.489432  \n",
              "3  0.505943  0.494994  0.625982  0.443524  0.635505  0.430933  \n",
              "4  0.516880  0.529739  0.604313  0.539936  0.615720  0.534194  \n",
              "\n",
              "[5 rows x 936 columns]"
            ],
            "text/html": [
              "\n",
              "  <div id=\"df-d05c034e-72a3-4e5c-87da-0a800352bbbe\">\n",
              "    <div class=\"colab-df-container\">\n",
              "      <div>\n",
              "<style scoped>\n",
              "    .dataframe tbody tr th:only-of-type {\n",
              "        vertical-align: middle;\n",
              "    }\n",
              "\n",
              "    .dataframe tbody tr th {\n",
              "        vertical-align: top;\n",
              "    }\n",
              "\n",
              "    .dataframe thead th {\n",
              "        text-align: right;\n",
              "    }\n",
              "</style>\n",
              "<table border=\"1\" class=\"dataframe\">\n",
              "  <thead>\n",
              "    <tr style=\"text-align: right;\">\n",
              "      <th></th>\n",
              "      <th>x_1</th>\n",
              "      <th>y_1</th>\n",
              "      <th>x_2</th>\n",
              "      <th>y_2</th>\n",
              "      <th>x_3</th>\n",
              "      <th>y_3</th>\n",
              "      <th>x_4</th>\n",
              "      <th>y_4</th>\n",
              "      <th>x_5</th>\n",
              "      <th>y_5</th>\n",
              "      <th>...</th>\n",
              "      <th>x_464</th>\n",
              "      <th>y_464</th>\n",
              "      <th>x_465</th>\n",
              "      <th>y_465</th>\n",
              "      <th>x_466</th>\n",
              "      <th>y_466</th>\n",
              "      <th>x_467</th>\n",
              "      <th>y_467</th>\n",
              "      <th>x_468</th>\n",
              "      <th>y_468</th>\n",
              "    </tr>\n",
              "  </thead>\n",
              "  <tbody>\n",
              "    <tr>\n",
              "      <th>0</th>\n",
              "      <td>0.543208</td>\n",
              "      <td>0.699374</td>\n",
              "      <td>0.577407</td>\n",
              "      <td>0.632260</td>\n",
              "      <td>0.548907</td>\n",
              "      <td>0.647842</td>\n",
              "      <td>0.550986</td>\n",
              "      <td>0.556556</td>\n",
              "      <td>0.581944</td>\n",
              "      <td>0.611347</td>\n",
              "      <td>...</td>\n",
              "      <td>0.565472</td>\n",
              "      <td>0.488038</td>\n",
              "      <td>0.561025</td>\n",
              "      <td>0.494831</td>\n",
              "      <td>0.562877</td>\n",
              "      <td>0.500676</td>\n",
              "      <td>0.635171</td>\n",
              "      <td>0.476615</td>\n",
              "      <td>0.641297</td>\n",
              "      <td>0.471475</td>\n",
              "    </tr>\n",
              "    <tr>\n",
              "      <th>1</th>\n",
              "      <td>0.449318</td>\n",
              "      <td>0.623106</td>\n",
              "      <td>0.438217</td>\n",
              "      <td>0.555571</td>\n",
              "      <td>0.453033</td>\n",
              "      <td>0.584886</td>\n",
              "      <td>0.438084</td>\n",
              "      <td>0.511398</td>\n",
              "      <td>0.438144</td>\n",
              "      <td>0.537558</td>\n",
              "      <td>...</td>\n",
              "      <td>0.534395</td>\n",
              "      <td>0.490127</td>\n",
              "      <td>0.520145</td>\n",
              "      <td>0.492032</td>\n",
              "      <td>0.509019</td>\n",
              "      <td>0.491730</td>\n",
              "      <td>0.624954</td>\n",
              "      <td>0.484638</td>\n",
              "      <td>0.639041</td>\n",
              "      <td>0.475861</td>\n",
              "    </tr>\n",
              "    <tr>\n",
              "      <th>2</th>\n",
              "      <td>0.536798</td>\n",
              "      <td>0.673666</td>\n",
              "      <td>0.568343</td>\n",
              "      <td>0.605853</td>\n",
              "      <td>0.540946</td>\n",
              "      <td>0.627751</td>\n",
              "      <td>0.540447</td>\n",
              "      <td>0.540982</td>\n",
              "      <td>0.571973</td>\n",
              "      <td>0.585368</td>\n",
              "      <td>...</td>\n",
              "      <td>0.557607</td>\n",
              "      <td>0.499001</td>\n",
              "      <td>0.553109</td>\n",
              "      <td>0.502464</td>\n",
              "      <td>0.554370</td>\n",
              "      <td>0.504928</td>\n",
              "      <td>0.625219</td>\n",
              "      <td>0.498331</td>\n",
              "      <td>0.632393</td>\n",
              "      <td>0.489432</td>\n",
              "    </tr>\n",
              "    <tr>\n",
              "      <th>3</th>\n",
              "      <td>0.502775</td>\n",
              "      <td>0.686440</td>\n",
              "      <td>0.470461</td>\n",
              "      <td>0.625865</td>\n",
              "      <td>0.491160</td>\n",
              "      <td>0.642107</td>\n",
              "      <td>0.449308</td>\n",
              "      <td>0.557135</td>\n",
              "      <td>0.464042</td>\n",
              "      <td>0.604852</td>\n",
              "      <td>...</td>\n",
              "      <td>0.526728</td>\n",
              "      <td>0.481417</td>\n",
              "      <td>0.514784</td>\n",
              "      <td>0.489186</td>\n",
              "      <td>0.505943</td>\n",
              "      <td>0.494994</td>\n",
              "      <td>0.625982</td>\n",
              "      <td>0.443524</td>\n",
              "      <td>0.635505</td>\n",
              "      <td>0.430933</td>\n",
              "    </tr>\n",
              "    <tr>\n",
              "      <th>4</th>\n",
              "      <td>0.454915</td>\n",
              "      <td>0.643061</td>\n",
              "      <td>0.441740</td>\n",
              "      <td>0.598905</td>\n",
              "      <td>0.461118</td>\n",
              "      <td>0.613343</td>\n",
              "      <td>0.455830</td>\n",
              "      <td>0.551114</td>\n",
              "      <td>0.442383</td>\n",
              "      <td>0.584940</td>\n",
              "      <td>...</td>\n",
              "      <td>0.535493</td>\n",
              "      <td>0.526638</td>\n",
              "      <td>0.525722</td>\n",
              "      <td>0.528086</td>\n",
              "      <td>0.516880</td>\n",
              "      <td>0.529739</td>\n",
              "      <td>0.604313</td>\n",
              "      <td>0.539936</td>\n",
              "      <td>0.615720</td>\n",
              "      <td>0.534194</td>\n",
              "    </tr>\n",
              "  </tbody>\n",
              "</table>\n",
              "<p>5 rows × 936 columns</p>\n",
              "</div>\n",
              "      <button class=\"colab-df-convert\" onclick=\"convertToInteractive('df-d05c034e-72a3-4e5c-87da-0a800352bbbe')\"\n",
              "              title=\"Convert this dataframe to an interactive table.\"\n",
              "              style=\"display:none;\">\n",
              "        \n",
              "  <svg xmlns=\"http://www.w3.org/2000/svg\" height=\"24px\"viewBox=\"0 0 24 24\"\n",
              "       width=\"24px\">\n",
              "    <path d=\"M0 0h24v24H0V0z\" fill=\"none\"/>\n",
              "    <path d=\"M18.56 5.44l.94 2.06.94-2.06 2.06-.94-2.06-.94-.94-2.06-.94 2.06-2.06.94zm-11 1L8.5 8.5l.94-2.06 2.06-.94-2.06-.94L8.5 2.5l-.94 2.06-2.06.94zm10 10l.94 2.06.94-2.06 2.06-.94-2.06-.94-.94-2.06-.94 2.06-2.06.94z\"/><path d=\"M17.41 7.96l-1.37-1.37c-.4-.4-.92-.59-1.43-.59-.52 0-1.04.2-1.43.59L10.3 9.45l-7.72 7.72c-.78.78-.78 2.05 0 2.83L4 21.41c.39.39.9.59 1.41.59.51 0 1.02-.2 1.41-.59l7.78-7.78 2.81-2.81c.8-.78.8-2.07 0-2.86zM5.41 20L4 18.59l7.72-7.72 1.47 1.35L5.41 20z\"/>\n",
              "  </svg>\n",
              "      </button>\n",
              "      \n",
              "  <style>\n",
              "    .colab-df-container {\n",
              "      display:flex;\n",
              "      flex-wrap:wrap;\n",
              "      gap: 12px;\n",
              "    }\n",
              "\n",
              "    .colab-df-convert {\n",
              "      background-color: #E8F0FE;\n",
              "      border: none;\n",
              "      border-radius: 50%;\n",
              "      cursor: pointer;\n",
              "      display: none;\n",
              "      fill: #1967D2;\n",
              "      height: 32px;\n",
              "      padding: 0 0 0 0;\n",
              "      width: 32px;\n",
              "    }\n",
              "\n",
              "    .colab-df-convert:hover {\n",
              "      background-color: #E2EBFA;\n",
              "      box-shadow: 0px 1px 2px rgba(60, 64, 67, 0.3), 0px 1px 3px 1px rgba(60, 64, 67, 0.15);\n",
              "      fill: #174EA6;\n",
              "    }\n",
              "\n",
              "    [theme=dark] .colab-df-convert {\n",
              "      background-color: #3B4455;\n",
              "      fill: #D2E3FC;\n",
              "    }\n",
              "\n",
              "    [theme=dark] .colab-df-convert:hover {\n",
              "      background-color: #434B5C;\n",
              "      box-shadow: 0px 1px 3px 1px rgba(0, 0, 0, 0.15);\n",
              "      filter: drop-shadow(0px 1px 2px rgba(0, 0, 0, 0.3));\n",
              "      fill: #FFFFFF;\n",
              "    }\n",
              "  </style>\n",
              "\n",
              "      <script>\n",
              "        const buttonEl =\n",
              "          document.querySelector('#df-d05c034e-72a3-4e5c-87da-0a800352bbbe button.colab-df-convert');\n",
              "        buttonEl.style.display =\n",
              "          google.colab.kernel.accessAllowed ? 'block' : 'none';\n",
              "\n",
              "        async function convertToInteractive(key) {\n",
              "          const element = document.querySelector('#df-d05c034e-72a3-4e5c-87da-0a800352bbbe');\n",
              "          const dataTable =\n",
              "            await google.colab.kernel.invokeFunction('convertToInteractive',\n",
              "                                                     [key], {});\n",
              "          if (!dataTable) return;\n",
              "\n",
              "          const docLinkHtml = 'Like what you see? Visit the ' +\n",
              "            '<a target=\"_blank\" href=https://colab.research.google.com/notebooks/data_table.ipynb>data table notebook</a>'\n",
              "            + ' to learn more about interactive tables.';\n",
              "          element.innerHTML = '';\n",
              "          dataTable['output_type'] = 'display_data';\n",
              "          await google.colab.output.renderOutput(dataTable, element);\n",
              "          const docLink = document.createElement('div');\n",
              "          docLink.innerHTML = docLinkHtml;\n",
              "          element.appendChild(docLink);\n",
              "        }\n",
              "      </script>\n",
              "    </div>\n",
              "  </div>\n",
              "  "
            ]
          },
          "metadata": {},
          "execution_count": 34
        }
      ]
    },
    {
      "cell_type": "code",
      "source": [
        "y.head()"
      ],
      "metadata": {
        "colab": {
          "base_uri": "https://localhost:8080/",
          "height": 206
        },
        "id": "iPk2lO6I97mk",
        "outputId": "299680fb-fbcc-493e-ebf7-1d4c19941e9e"
      },
      "execution_count": 35,
      "outputs": [
        {
          "output_type": "execute_result",
          "data": {
            "text/plain": [
              "      pitch       yaw      roll\n",
              "0 -0.225239 -0.460198  0.147923\n",
              "1  0.388930  0.319857  0.066105\n",
              "2 -0.060874 -0.514415  0.110057\n",
              "3 -0.128483  0.239956 -0.232144\n",
              "4 -0.240427  0.718242  0.156163"
            ],
            "text/html": [
              "\n",
              "  <div id=\"df-6f991da5-709e-4d03-aae1-1e4e3ecace9e\">\n",
              "    <div class=\"colab-df-container\">\n",
              "      <div>\n",
              "<style scoped>\n",
              "    .dataframe tbody tr th:only-of-type {\n",
              "        vertical-align: middle;\n",
              "    }\n",
              "\n",
              "    .dataframe tbody tr th {\n",
              "        vertical-align: top;\n",
              "    }\n",
              "\n",
              "    .dataframe thead th {\n",
              "        text-align: right;\n",
              "    }\n",
              "</style>\n",
              "<table border=\"1\" class=\"dataframe\">\n",
              "  <thead>\n",
              "    <tr style=\"text-align: right;\">\n",
              "      <th></th>\n",
              "      <th>pitch</th>\n",
              "      <th>yaw</th>\n",
              "      <th>roll</th>\n",
              "    </tr>\n",
              "  </thead>\n",
              "  <tbody>\n",
              "    <tr>\n",
              "      <th>0</th>\n",
              "      <td>-0.225239</td>\n",
              "      <td>-0.460198</td>\n",
              "      <td>0.147923</td>\n",
              "    </tr>\n",
              "    <tr>\n",
              "      <th>1</th>\n",
              "      <td>0.388930</td>\n",
              "      <td>0.319857</td>\n",
              "      <td>0.066105</td>\n",
              "    </tr>\n",
              "    <tr>\n",
              "      <th>2</th>\n",
              "      <td>-0.060874</td>\n",
              "      <td>-0.514415</td>\n",
              "      <td>0.110057</td>\n",
              "    </tr>\n",
              "    <tr>\n",
              "      <th>3</th>\n",
              "      <td>-0.128483</td>\n",
              "      <td>0.239956</td>\n",
              "      <td>-0.232144</td>\n",
              "    </tr>\n",
              "    <tr>\n",
              "      <th>4</th>\n",
              "      <td>-0.240427</td>\n",
              "      <td>0.718242</td>\n",
              "      <td>0.156163</td>\n",
              "    </tr>\n",
              "  </tbody>\n",
              "</table>\n",
              "</div>\n",
              "      <button class=\"colab-df-convert\" onclick=\"convertToInteractive('df-6f991da5-709e-4d03-aae1-1e4e3ecace9e')\"\n",
              "              title=\"Convert this dataframe to an interactive table.\"\n",
              "              style=\"display:none;\">\n",
              "        \n",
              "  <svg xmlns=\"http://www.w3.org/2000/svg\" height=\"24px\"viewBox=\"0 0 24 24\"\n",
              "       width=\"24px\">\n",
              "    <path d=\"M0 0h24v24H0V0z\" fill=\"none\"/>\n",
              "    <path d=\"M18.56 5.44l.94 2.06.94-2.06 2.06-.94-2.06-.94-.94-2.06-.94 2.06-2.06.94zm-11 1L8.5 8.5l.94-2.06 2.06-.94-2.06-.94L8.5 2.5l-.94 2.06-2.06.94zm10 10l.94 2.06.94-2.06 2.06-.94-2.06-.94-.94-2.06-.94 2.06-2.06.94z\"/><path d=\"M17.41 7.96l-1.37-1.37c-.4-.4-.92-.59-1.43-.59-.52 0-1.04.2-1.43.59L10.3 9.45l-7.72 7.72c-.78.78-.78 2.05 0 2.83L4 21.41c.39.39.9.59 1.41.59.51 0 1.02-.2 1.41-.59l7.78-7.78 2.81-2.81c.8-.78.8-2.07 0-2.86zM5.41 20L4 18.59l7.72-7.72 1.47 1.35L5.41 20z\"/>\n",
              "  </svg>\n",
              "      </button>\n",
              "      \n",
              "  <style>\n",
              "    .colab-df-container {\n",
              "      display:flex;\n",
              "      flex-wrap:wrap;\n",
              "      gap: 12px;\n",
              "    }\n",
              "\n",
              "    .colab-df-convert {\n",
              "      background-color: #E8F0FE;\n",
              "      border: none;\n",
              "      border-radius: 50%;\n",
              "      cursor: pointer;\n",
              "      display: none;\n",
              "      fill: #1967D2;\n",
              "      height: 32px;\n",
              "      padding: 0 0 0 0;\n",
              "      width: 32px;\n",
              "    }\n",
              "\n",
              "    .colab-df-convert:hover {\n",
              "      background-color: #E2EBFA;\n",
              "      box-shadow: 0px 1px 2px rgba(60, 64, 67, 0.3), 0px 1px 3px 1px rgba(60, 64, 67, 0.15);\n",
              "      fill: #174EA6;\n",
              "    }\n",
              "\n",
              "    [theme=dark] .colab-df-convert {\n",
              "      background-color: #3B4455;\n",
              "      fill: #D2E3FC;\n",
              "    }\n",
              "\n",
              "    [theme=dark] .colab-df-convert:hover {\n",
              "      background-color: #434B5C;\n",
              "      box-shadow: 0px 1px 3px 1px rgba(0, 0, 0, 0.15);\n",
              "      filter: drop-shadow(0px 1px 2px rgba(0, 0, 0, 0.3));\n",
              "      fill: #FFFFFF;\n",
              "    }\n",
              "  </style>\n",
              "\n",
              "      <script>\n",
              "        const buttonEl =\n",
              "          document.querySelector('#df-6f991da5-709e-4d03-aae1-1e4e3ecace9e button.colab-df-convert');\n",
              "        buttonEl.style.display =\n",
              "          google.colab.kernel.accessAllowed ? 'block' : 'none';\n",
              "\n",
              "        async function convertToInteractive(key) {\n",
              "          const element = document.querySelector('#df-6f991da5-709e-4d03-aae1-1e4e3ecace9e');\n",
              "          const dataTable =\n",
              "            await google.colab.kernel.invokeFunction('convertToInteractive',\n",
              "                                                     [key], {});\n",
              "          if (!dataTable) return;\n",
              "\n",
              "          const docLinkHtml = 'Like what you see? Visit the ' +\n",
              "            '<a target=\"_blank\" href=https://colab.research.google.com/notebooks/data_table.ipynb>data table notebook</a>'\n",
              "            + ' to learn more about interactive tables.';\n",
              "          element.innerHTML = '';\n",
              "          dataTable['output_type'] = 'display_data';\n",
              "          await google.colab.output.renderOutput(dataTable, element);\n",
              "          const docLink = document.createElement('div');\n",
              "          docLink.innerHTML = docLinkHtml;\n",
              "          element.appendChild(docLink);\n",
              "        }\n",
              "      </script>\n",
              "    </div>\n",
              "  </div>\n",
              "  "
            ]
          },
          "metadata": {},
          "execution_count": 35
        }
      ]
    },
    {
      "cell_type": "markdown",
      "source": [
        "### **Model Training**"
      ],
      "metadata": {
        "id": "OiabnWkXOoht"
      }
    },
    {
      "cell_type": "code",
      "source": [
        "X_train, X_test, y_train, y_test = train_test_split(X, y, test_size=0.2, random_state=42)"
      ],
      "metadata": {
        "id": "ZqCmoAbA-AzO"
      },
      "execution_count": 36,
      "outputs": []
    },
    {
      "cell_type": "code",
      "source": [
        "svr = MultiOutputRegressor(SVR(kernel='rbf'))\n",
        "svr.fit(X_train, y_train)"
      ],
      "metadata": {
        "colab": {
          "base_uri": "https://localhost:8080/"
        },
        "id": "BE2Qq5BWQLco",
        "outputId": "55c771aa-b66a-4799-e827-0b66a6110cca"
      },
      "execution_count": 37,
      "outputs": [
        {
          "output_type": "execute_result",
          "data": {
            "text/plain": [
              "MultiOutputRegressor(estimator=SVR())"
            ]
          },
          "metadata": {},
          "execution_count": 37
        }
      ]
    },
    {
      "cell_type": "code",
      "source": [
        "preds = svr.predict(X_test)"
      ],
      "metadata": {
        "id": "NMscCBOeQT51"
      },
      "execution_count": 38,
      "outputs": []
    },
    {
      "cell_type": "code",
      "source": [
        "r2_score(y_test, preds)"
      ],
      "metadata": {
        "colab": {
          "base_uri": "https://localhost:8080/"
        },
        "id": "TfaLjOB3Qe23",
        "outputId": "32f8d1c1-99fb-40dd-b8e9-5bad3e7d4a26"
      },
      "execution_count": 39,
      "outputs": [
        {
          "output_type": "execute_result",
          "data": {
            "text/plain": [
              "0.8576040388686536"
            ]
          },
          "metadata": {},
          "execution_count": 39
        }
      ]
    },
    {
      "cell_type": "code",
      "source": [
        ""
      ],
      "metadata": {
        "id": "1fmdEdaqQ0dv"
      },
      "execution_count": null,
      "outputs": []
    }
  ]
}